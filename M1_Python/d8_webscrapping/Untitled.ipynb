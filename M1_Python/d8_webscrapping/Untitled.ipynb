{
 "cells": [
  {
   "cell_type": "code",
   "execution_count": 103,
   "metadata": {},
   "outputs": [
    {
     "name": "stdout",
     "output_type": "stream",
     "text": [
      "  Today Mostly SunnyHigh: 66 °F  Tonight PartlyCloudyLow: 48 °F  Thursday SunnyHigh: 61 °F  ThursdayNight ClearLow: 46 °F  Friday SunnyHigh: 69 °F  FridayNight ClearLow: 47 °F  Saturday SunnyHigh: 74 °F  SaturdayNight ClearLow: 49 °F  Sunday SunnyHigh: 69 °F\n",
      "Today\n",
      "\n",
      "\n",
      "\n",
      "\n",
      "\n",
      "\n",
      "\n",
      "\n"
     ]
    }
   ],
   "source": [
    "import requests\n",
    "from bs4 import BeautifulSoup\n",
    "d={}\n",
    "page = requests.get(\"https://forecast.weather.gov/MapClick.php?lat=37.777120000000025&lon=-122.41963999999996#.YFtWia9KhPZ\")\n",
    "page.status_code\n",
    "soup= BeautifulSoup(page.content, 'html.parser')\n",
    "\n",
    "p= body.find(id= \"seven-day-forecast-container\").get_text().replace(\"\\n\",\" \").replace(\"\\n\\n\", \" \").replace(\"\\n\\n\\n\", \" \").replace('Partly CloudyLow', \"PartlyCloudyLow\")\n",
    "print(p)\n",
    "list= p.strip().split(\" \")\n",
    "\n",
    "\n",
    "today= ['today']\n",
    "for i in range(len(list)):\n",
    "    \n",
    "    if i%5 == 0:\n",
    "        print(list[i])\n",
    "        \n",
    "    \n",
    "        \n",
    "    \n",
    "#Sorry, could not make it, should work on strings\n",
    "\n",
    "\n",
    "\n",
    "# for i in range(len(list)):\n",
    "#     if i==\" \":\n",
    "#         break\n",
    "#     d= { list[i]: list[i]}\n",
    "#     print(d)\n",
    "    \n",
    "\n",
    "    \n",
    "    \n"
   ]
  },
  {
   "cell_type": "code",
   "execution_count": null,
   "metadata": {},
   "outputs": [],
   "source": [
    "    for p in data['response']:\n",
    "        print(f\"Duration: {p['duration']}\")\n",
    "        print(f\"RiseTime: {p['risetime']}\")"
   ]
  },
  {
   "cell_type": "code",
   "execution_count": null,
   "metadata": {},
   "outputs": [],
   "source": [
    "html= list(soup.children)[2]\n",
    "body= list(html.children)[3]\n",
    "p= list()\n"
   ]
  }
 ],
 "metadata": {
  "kernelspec": {
   "display_name": "Python 3",
   "language": "python",
   "name": "python3"
  },
  "language_info": {
   "codemirror_mode": {
    "name": "ipython",
    "version": 3
   },
   "file_extension": ".py",
   "mimetype": "text/x-python",
   "name": "python",
   "nbconvert_exporter": "python",
   "pygments_lexer": "ipython3",
   "version": "3.8.5"
  }
 },
 "nbformat": 4,
 "nbformat_minor": 4
}
